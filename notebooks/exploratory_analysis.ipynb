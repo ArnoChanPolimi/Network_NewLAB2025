{
 "cells": [
  {
   "cell_type": "markdown",
   "metadata": {},
   "source": [
    "# Exploratory Data Analysis for Packet Loss Event Classification\n",
    "\n",
    "本 notebook 用于对网络延迟数据进行探索性分析，理解延迟与丢包事件的关系。"
   ]
  },
  {
   "cell_type": "code",
   "execution_count": null,
   "metadata": {},
   "outputs": [],
   "source": [
    "import pandas as pd\n",
    "import numpy as np\n",
    "import matplotlib.pyplot as plt\n",
    "import seaborn as sns\n",
    "from pathlib import Path\n",
    "import yaml\n",
    "\n",
    "plt.style.use('seaborn-v0_8')\n",
    "sns.set_palette('husl')"
   ]
  },
  {
   "cell_type": "markdown",
   "metadata": {},
   "source": [
    "## 读取配置文件"
   ]
  },
  {
   "cell_type": "code",
   "execution_count": null,
   "metadata": {},
   "outputs": [],
   "source": [
    "with open('../config.yaml', 'r', encoding='utf-8') as f:\n",
    "    config = yaml.safe_load(f)"
   ]
  },
  {
   "cell_type": "markdown",
   "metadata": {},
   "source": [
    "## 加载数据样例"
   ]
  },
  {
   "cell_type": "code",
   "execution_count": null,
   "metadata": {},
   "outputs": [],
   "source": [
    "sample_file = Path(config['paths']['dataset']['first_capture']) / 'cpe_a-cpe_b-fiber.csv'\n",
    "df = pd.read_csv(sample_file)\n",
    "df['time'] = pd.to_datetime(df['time'])\n",
    "df.head()"
   ]
  },
  {
   "cell_type": "markdown",
   "metadata": {},
   "source": [
    "## 基本统计信息"
   ]
  },
  {
   "cell_type": "code",
   "execution_count": null,
   "metadata": {},
   "outputs": [],
   "source": [
    "df.describe()"
   ]
  },
  {
   "cell_type": "markdown",
   "metadata": {},
   "source": [
    "## 丢包统计分析"
   ]
  },
  {
   "cell_type": "code",
   "execution_count": null,
   "metadata": {},
   "outputs": [],
   "source": [
    "df['is_packet_loss'] = (df['delay_ms'] == -1).astype(int)\n",
    "packet_loss_count = df['is_packet_loss'].sum()\n",
    "total = len(df)\n",
    "print(f'丢包事件数: {packet_loss_count}')\n",
    "print(f'丢包率: {packet_loss_count/total*100:.2f}%')"
   ]
  },
  {
   "cell_type": "markdown",
   "metadata": {},
   "source": [
    "## 延迟时序可视化（含丢包）"
   ]
  },
  {
   "cell_type": "code",
   "execution_count": null,
   "metadata": {},
   "outputs": [],
   "source": [
    "plt.figure(figsize=(15, 5))\n",
    "plt.plot(df['time'], df['delay_ms'], label='Delay (ms)')\n",
    "plt.scatter(df.loc[df['is_packet_loss']==1, 'time'], [0]*df['is_packet_loss'].sum(), color='red', label='Packet Loss', s=10)\n",
    "plt.title('Delay and Packet Loss Over Time')\n",
    "plt.xlabel('Time')\n",
    "plt.ylabel('Delay (ms)')\n",
    "plt.legend()\n",
    "plt.tight_layout()\n",
    "plt.show()"
   ]
  },
  {
   "cell_type": "markdown",
   "metadata": {},
   "source": [
    "## 延迟分布直方图（去除丢包）"
   ]
  },
  {
   "cell_type": "code",
   "execution_count": null,
   "metadata": {},
   "outputs": [],
   "source": [
    "plt.figure(figsize=(10, 5))\n",
    "sns.histplot(df[df['delay_ms']!=-1]['delay_ms'], bins=50, kde=True)\n",
    "plt.title('Distribution of Delay (ms)')\n",
    "plt.xlabel('Delay (ms)')\n",
    "plt.ylabel('Count')\n",
    "plt.show()"
   ]
  },
  {
   "cell_type": "markdown",
   "metadata": {},
   "source": [
    "## 丢包事件的前后延迟分析"
   ]
  },
  {
   "cell_type": "code",
   "execution_count": null,
   "metadata": {},
   "outputs": [],
   "source": [
    "# 找到丢包事件的索引\n",
    "loss_indices = df.index[df['is_packet_loss'] == 1].tolist()\n",
    "# 取丢包前后各5个点的延迟\n",
    "window = 5\n",
    "before_loss = []\n",
    "after_loss = []\n",
    "for idx in loss_indices:\n",
    "    if idx-window >= 0:\n",
    "        before_loss.extend(df.iloc[idx-window:idx]['delay_ms'].values)\n",
    "    if idx+1+window <= len(df):\n",
    "        after_loss.extend(df.iloc[idx+1:idx+1+window]['delay_ms'].values)\n",
    "plt.figure(figsize=(10,5))\n",
    "sns.histplot(before_loss, color='blue', label='Before Loss', kde=True, stat='density')\n",
    "sns.histplot(after_loss, color='orange', label='After Loss', kde=True, stat='density')\n",
    "plt.legend()\n",
    "plt.title('Delay Distribution Before and After Packet Loss')\n",
    "plt.xlabel('Delay (ms)')\n",
    "plt.show()"
   ]
  },
  {
   "cell_type": "markdown",
   "metadata": {},
   "source": [
    "## 延迟自相关分析（滞后1~3）"
   ]
  },
  {
   "cell_type": "code",
   "execution_count": null,
   "metadata": {},
   "outputs": [],
   "source": [
    "df['delay_lag1'] = df['delay_ms'].shift(1)\n",
    "df['delay_lag2'] = df['delay_ms'].shift(2)\n",
    "df['delay_lag3'] = df['delay_ms'].shift(3)\n",
    "corr = df[['delay_ms', 'delay_lag1', 'delay_lag2', 'delay_lag3']].corr()\n",
    "plt.figure(figsize=(6,4))\n",
    "sns.heatmap(corr, annot=True, cmap='coolwarm')\n",
    "plt.title('Correlation Matrix of Delay and Lags')\n",
    "plt.show()"
   ]
  },
  {
   "cell_type": "markdown",
   "metadata": {},
   "source": [
    "## 小结\n",
    "- 延迟分布、丢包率、时序特征等为后续特征工程和建模提供了依据。\n",
    "- 可以尝试用滑动窗口统计特征预测丢包事件。"
   ]
  }
 ],
 "metadata": {
  "kernelspec": {
   "display_name": "Python 3",
   "language": "python",
   "name": "python3"
  },
  "language_info": {
   "name": "python",
   "version": "3.8"
  }
 },
 "nbformat": 4,
 "nbformat_minor": 2
}
